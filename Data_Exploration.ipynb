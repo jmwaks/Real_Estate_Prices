{
 "cells": [
  {
   "cell_type": "markdown",
   "metadata": {
    "collapsed": false
   },
   "source": [
    "# Housing Prices - Advanced Regression Techniques "
   ]
  },
  {
   "cell_type": "markdown",
   "metadata": {},
   "source": [
    "### James Mwakichako - jmwakich@hawk.iit.edu\n",
    "### Michael Baroody  - mbaroody@hawk.iit.edu"
   ]
  },
  {
   "cell_type": "markdown",
   "metadata": {},
   "source": [
    "### Description \n",
    "\n",
    "This projects attemps to predict the final sale price of a home given certain features of houses such as square footage, pool area, if it has a second floor or not. In total, there are 80 features initially and the final sale price with is the target. "
   ]
  },
  {
   "cell_type": "code",
   "execution_count": 1,
   "metadata": {
    "collapsed": true
   },
   "outputs": [],
   "source": [
    "%matplotlib inline\n",
    "import pandas as pd\n",
    "from ipywidgets import widgets\n",
    "from IPython.display import display\n",
    "import numpy as np\n",
    "import matplotlib.pyplot as plt"
   ]
  },
  {
   "cell_type": "code",
   "execution_count": 2,
   "metadata": {
    "collapsed": false
   },
   "outputs": [],
   "source": [
    "train = pd.read_csv(\"train.csv\", header = 0)"
   ]
  },
  {
   "cell_type": "code",
   "execution_count": 3,
   "metadata": {
    "collapsed": false
   },
   "outputs": [
    {
     "name": "stdout",
     "output_type": "stream",
     "text": [
      "Number of datapoints: 1460\n",
      "Number of features: 81\n"
     ]
    }
   ],
   "source": [
    "print('Number of datapoints: %s' % train.shape[0])\n",
    "print('Number of features: %s' % train.shape[1])"
   ]
  },
  {
   "cell_type": "markdown",
   "metadata": {},
   "source": [
    "# Visualization of all features (target='SalePrice')"
   ]
  },
  {
   "cell_type": "code",
   "execution_count": 4,
   "metadata": {
    "collapsed": false
   },
   "outputs": [
    {
     "name": "stdout",
     "output_type": "stream",
     "text": [
      "Mean: 10516.83\n",
      "Variance: 99557412.90\n",
      "Percent values missing: 0.000000%\n"
     ]
    },
    {
     "data": {
      "image/png": "[encoded data removed]",
      "text/plain": [
       "<matplotlib.figure.Figure at 0x7fe081765828>"
      ]
     },
     "metadata": {},
     "output_type": "display_data"
    },
    {
     "data": {
      "image/png": "[encoded data removed]",
      "text/plain": [
       "<matplotlib.figure.Figure at 0x7fe07f0ef5c0>"
      ]
     },
     "metadata": {},
     "output_type": "display_data"
    }
   ],
   "source": [
    "features = [feature for feature in train.columns.values]\n",
    "\n",
    "features_dropdown = widgets.Dropdown(\n",
    "    options=features,\n",
    "    value='TotalBsmtSF',\n",
    "    description='Feature',\n",
    "    disabled=False,\n",
    "    button_style='info'\n",
    ")\n",
    "\n",
    "categorical_features = [cat_feature for cat_feature in train.columns.values if train[cat_feature].dtype == 'object']\n",
    "categorical_features.extend(['MSSubClass', 'OverallQual', 'OverallCond', 'BsmtFullBath', \n",
    "                             'BsmtHalfBath', 'BedroomAbvGr', 'KitchenAbvGr', \n",
    "                             'TotRmsAbvGr', 'Fireplaces', 'GarageCars', 'MoSold', 'YrSold'])\n",
    "\n",
    "\n",
    "def display_stats(feature):\n",
    "    \n",
    "    if feature in categorical_features:\n",
    "        stringified = train[feature].apply(lambda x: str(x)).values\n",
    "        print(\"Percent values missing: %f%%\" % (100*(np.sum(stringified == 'nan') / len(train[feature].values))))\n",
    "        \n",
    "        nan_indices = np.where(stringified == 'nan')[0]\n",
    "        stringified = np.delete(stringified, nan_indices)\n",
    "        \n",
    "        labels = np.unique(stringified)\n",
    "        data = [np.sum(stringified == l) for l in labels]\n",
    "        fig = plt.figure()\n",
    "        ax = fig.add_subplot(1, 1, 1)\n",
    "        ax.set_title('Visualization of %s' % feature)\n",
    "        ax.set_xlabel(feature)\n",
    "        ax.set_ylabel('Frequency')\n",
    "        if feature == 'MoSold':\n",
    "            labels = ['Jan', 'Feb', 'Mar', 'Apr', 'May', 'Jun', 'Jul', 'Aug', 'Sep', 'Oct', 'Nov', 'Dec']\n",
    "        ax.bar(range(len(data)), data, tick_label=labels)\n",
    "        #ax.xticks(range(len(lables)), labels)\n",
    "        plt.show()\n",
    "    else:\n",
    "        x = train[feature].values\n",
    "    \n",
    "        #find zero indices\n",
    "        zero_indices = np.where(x == 0)[0]\n",
    "        nan_indices = np.where(np.isnan(x))[0]\n",
    "        #delete these datapoints from x and y\n",
    "    \n",
    "        x = np.delete(x, zero_indices)\n",
    "        x = np.delete(x, nan_indices)\n",
    "        \n",
    "        print('Mean: %.2f' % np.mean(x))\n",
    "        print('Variance: %.2f' % np.var(x))\n",
    "        # we don't count zeros as missing\n",
    "        print('Percent values missing: %f%%' % (100*((len(nan_indices)) / len(train[feature].values))))\n",
    "    \n",
    "        fig1 = plt.figure(1)\n",
    "        ax1 = fig1.add_subplot(1, 1, 1)\n",
    "        ax1.set_title('Histogram of %s' % feature)\n",
    "        ax1.set_xlabel(feature)\n",
    "        ax1.set_ylabel('Frequency')\n",
    "        ax1.hist(x)\n",
    "        \n",
    "        fig2 = plt.figure(2)\n",
    "        ax2= fig2.add_subplot(1, 1, 1)\n",
    "        ax2.set_title('Boxplot of %s' % feature)\n",
    "        ax2.boxplot([list(x)], labels=[feature])\n",
    "        plt.show()\n",
    "\n",
    "widgets.interact(display_stats, feature=features_dropdown)"
   ]
  },
  {
   "cell_type": "markdown",
   "metadata": {},
   "source": [
    "# Visualization of Final Sale Price vs. Features"
   ]
  },
  {
   "cell_type": "code",
   "execution_count": 5,
   "metadata": {
    "collapsed": false,
    "scrolled": true
   },
   "outputs": [
    {
     "data": {
      "image/png": "[encoded data removed]",
      "text/plain": [
       "<matplotlib.figure.Figure at 0x7f33aad24eb8>"
      ]
     },
     "metadata": {},
     "output_type": "display_data"
    }
   ],
   "source": [
    "features_dropdown = widgets.Dropdown(\n",
    "    options=features,\n",
    "    value='TotalBsmtSF',\n",
    "    description='Feature',\n",
    "    disabled=False,\n",
    "    button_style='info'\n",
    ")\n",
    "\n",
    "def display_salePrice_vs_feature(feature):\n",
    "    \n",
    "    if feature in categorical_features:\n",
    "        labels = np.unique(train[feature].apply(lambda x: str(x)).values)\n",
    "        data = {str(l): list() for l in labels}\n",
    "        for idx, val in enumerate(train['SalePrice'].values):\n",
    "            data[str(train[feature].values[idx])].append(val)\n",
    "        data = [d[1] for d in sorted(list(data.items()), key=lambda x: x[0])]\n",
    "        #delete datapoints with nan (always last bc sorted)\n",
    "        \n",
    "        labels = list(labels)\n",
    "        if 'nan' in labels:\n",
    "            del labels[-1]\n",
    "            del data[-1]\n",
    "        \n",
    "        fig = plt.figure()\n",
    "        ax = fig.add_subplot(1, 1, 1)\n",
    "        ax.set_title('Final Sale Price vs. %s' % feature)\n",
    "        ax.set_xlabel(feature)\n",
    "        ax.set_ylabel('Final Sale Price ($)')\n",
    "        ax.boxplot(data, labels=labels)\n",
    "        plt.show()\n",
    "    else:\n",
    "        x = train[feature].values\n",
    "        y = train['SalePrice'].values\n",
    "    \n",
    "        #find zero indices\n",
    "        zero_indices = np.where(x == 0)[0]\n",
    "        #delete these datapoints from x and y\n",
    "    \n",
    "        x = np.delete(x, zero_indices)\n",
    "        y = np.delete(y, zero_indices)\n",
    "    \n",
    "        fig = plt.figure()\n",
    "        ax = fig.add_subplot(1, 1, 1)\n",
    "        ax.set_title('Final Sale Price vs. %s' % feature)\n",
    "        ax.set_xlabel(feature)\n",
    "        ax.set_ylabel('Final Sale Price ($)')\n",
    "\n",
    "        ax.scatter(x, y)\n",
    "        plt.show()\n",
    "\n",
    "widgets.interact(display_salePrice_vs_feature, feature=features_dropdown)\n",
    "\n",
    "\n"
   ]
  },
  {
   "cell_type": "code",
   "execution_count": null,
   "metadata": {
    "collapsed": true
   },
   "outputs": [],
   "source": []
  },
  {
   "cell_type": "code",
   "execution_count": null,
   "metadata": {
    "collapsed": true
   },
   "outputs": [],
   "source": []
  }
 ],
 "metadata": {
  "anaconda-cloud": {},
  "kernelspec": {
   "display_name": "Python [Root]",
   "language": "python",
   "name": "Python [Root]"
  },
  "language_info": {
   "codemirror_mode": {
    "name": "ipython",
    "version": 3
   },
   "file_extension": ".py",
   "mimetype": "text/x-python",
   "name": "python",
   "nbconvert_exporter": "python",
   "pygments_lexer": "ipython3",
   "version": "3.5.2"
  },
  "widgets": {
   "state": {
    "5f89bb984bf042438c791a820b420c97": {
     "views": [
      {
       "cell_index": 5
      }
     ]
    }
   },
   "version": "1.2.0"
  }
 },
 "nbformat": 4,
 "nbformat_minor": 0
}
