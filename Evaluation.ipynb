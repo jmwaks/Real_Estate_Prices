{
 "cells": [
  {
   "cell_type": "markdown",
   "metadata": {
    "collapsed": false
   },
   "source": [
    "# Housing Prices - Advanced Regression Techniques"
   ]
  },
  {
   "cell_type": "markdown",
   "metadata": {},
   "source": [
    "### James Mwakichako - jmwakich@hawk.iit.edu\n",
    "### Michael Baroody  - mbaroody@hawk.iit.edu"
   ]
  },
  {
   "cell_type": "markdown",
   "metadata": {},
   "source": [
    "## Description"
   ]
  },
  {
   "cell_type": "markdown",
   "metadata": {},
   "source": [
    "The purpose of this project is to predict the final sale price of a home, given features of a house such as square footage, number of pools, garage condition, etc. Initially, we are given 80 features and 1460 datapoints. Of course, not all of this data is clean. There are several problems with our dataset:\n",
    "\n",
    "* missing values\n",
    "* NaN values\n",
    "* categorical data that needs to be encoded.\n",
    "\n",
    "This document outlines some of the approaches that we took to deal with these issues as well as the models we used to fit our processed data."
   ]
  },
  {
   "cell_type": "markdown",
   "metadata": {},
   "source": [
    "Below is a widget that you might find helpful when navigating through our data. "
   ]
  },
  {
   "cell_type": "code",
   "execution_count": 1,
   "metadata": {
    "collapsed": false
   },
   "outputs": [
    {
     "name": "stdout",
     "output_type": "stream",
     "text": [
      "Percent values missing: 93.767123%\n"
     ]
    },
    {
     "data": {
      "image/png": "[encoded data removed]",
      "text/plain": [
       "<matplotlib.figure.Figure at 0x7ff844b30fd0>"
      ]
     },
     "metadata": {},
     "output_type": "display_data"
    }
   ],
   "source": [
    "%matplotlib inline\n",
    "import pandas as pd\n",
    "from ipywidgets import widgets\n",
    "from IPython.display import display\n",
    "import numpy as np\n",
    "import matplotlib.pyplot as plt\n",
    "from sklearn import preprocessing, linear_model, model_selection, neural_network, ensemble, tree\n",
    "\n",
    "# train DataFrame object\n",
    "# see http://pandas.pydata.org/pandas-docs/stable/generated/pandas.DataFrame.html\n",
    "# and http://pandas.pydata.org/pandas-docs/stable/generated/pandas.read_csv.html\n",
    "train = pd.read_csv(\"train.csv\", header = 0)\n",
    "\n",
    "features = [feature for feature in train.columns.values]\n",
    "\n",
    "features_dropdown = widgets.Dropdown(\n",
    "    options=sorted(features),\n",
    "    value='TotalBsmtSF',\n",
    "    description='Feature',\n",
    "    disabled=False,\n",
    "    button_style='info'\n",
    ")\n",
    "\n",
    "categorical_features = [cat_feature for cat_feature in train.columns.values if train[cat_feature].dtype == 'object']\n",
    "categorical_features.extend(['MSSubClass', 'OverallQual', 'OverallCond', 'BsmtFullBath', \n",
    "                             'BsmtHalfBath', 'BedroomAbvGr', 'KitchenAbvGr', \n",
    "                             'TotRmsAbvGr', 'Fireplaces', 'GarageCars', 'MoSold', 'YrSold'])\n",
    "\n",
    "\n",
    "def display_stats(feature):\n",
    "    \n",
    "    if feature in categorical_features:\n",
    "        stringified = train[feature].apply(lambda x: str(x)).values\n",
    "        print(\"Percent values missing: %f%%\" % (100*(np.sum(stringified == 'nan') / len(train[feature].values))))\n",
    "        \n",
    "        nan_indices = np.where(stringified == 'nan')[0]\n",
    "        stringified = np.delete(stringified, nan_indices)\n",
    "        \n",
    "        labels = np.unique(stringified)\n",
    "        data = [np.sum(stringified == l) for l in labels]\n",
    "        fig = plt.figure()\n",
    "        ax = fig.add_subplot(1, 1, 1)\n",
    "        ax.set_title('Visualization of %s' % feature)\n",
    "        ax.set_xlabel(feature)\n",
    "        ax.set_ylabel('Frequency')\n",
    "        if feature == 'MoSold':\n",
    "            labels = ['Jan', 'Feb', 'Mar', 'Apr', 'May', 'Jun', 'Jul', 'Aug', 'Sep', 'Oct', 'Nov', 'Dec']\n",
    "        ax.bar(range(len(data)), data, tick_label=labels)\n",
    "        #ax.xticks(range(len(lables)), labels)\n",
    "        plt.show()\n",
    "    else:\n",
    "        x = train[feature].values\n",
    "    \n",
    "        #find zero indices\n",
    "        zero_indices = np.where(x == 0)[0]\n",
    "        nan_indices = np.where(np.isnan(x))[0]\n",
    "        #delete these datapoints from x and y\n",
    "    \n",
    "        x = np.delete(x, zero_indices)\n",
    "        x = np.delete(x, nan_indices)\n",
    "        \n",
    "        print('Mean: %.2f' % np.mean(x))\n",
    "        print('Variance: %.2f' % np.var(x))\n",
    "        # we don't count zeros as missing\n",
    "        print('Percent values missing: %f%%' % (100*((len(nan_indices)) / len(train[feature].values))))\n",
    "    \n",
    "        fig1 = plt.figure(1)\n",
    "        ax1 = fig1.add_subplot(1, 1, 1)\n",
    "        ax1.set_title('Histogram of %s' % feature)\n",
    "        ax1.set_xlabel(feature)\n",
    "        ax1.set_ylabel('Frequency')\n",
    "        ax1.hist(x)\n",
    "        \n",
    "        fig2 = plt.figure(2)\n",
    "        ax2= fig2.add_subplot(1, 1, 1)\n",
    "        ax2.set_title('Boxplot of %s' % feature)\n",
    "        ax2.boxplot([list(x)], labels=[feature])\n",
    "        plt.show()\n",
    "\n",
    "widgets.interact(display_stats, feature=features_dropdown)"
   ]
  },
  {
   "cell_type": "code",
   "execution_count": 2,
   "metadata": {
    "collapsed": false
   },
   "outputs": [
    {
     "name": "stdout",
     "output_type": "stream",
     "text": [
      "(1460, 81)\n"
     ]
    }
   ],
   "source": [
    "print(train.shape)"
   ]
  },
  {
   "cell_type": "markdown",
   "metadata": {},
   "source": [
    "## Preprocessing"
   ]
  },
  {
   "cell_type": "markdown",
   "metadata": {},
   "source": [
    "### Preprocessing Step 1 - Missing Values"
   ]
  },
  {
   "cell_type": "markdown",
   "metadata": {},
   "source": [
    "Recall that we had some features with many missing values (refer to widget above). We want to throw out all features that have > 25% missing values. That means 'PoolQC', 'MiscFeature', 'Alley', 'Fence', and 'FireplaceQu' will all be excluded from the training data. We also don't care about the 'Id' for obvious reasons, and 'Utilities' because virtually all datapoints have the same value for the 'Utilities' feature (again, refer to widget). "
   ]
  },
  {
   "cell_type": "code",
   "execution_count": 142,
   "metadata": {
    "collapsed": false
   },
   "outputs": [
    {
     "name": "stdout",
     "output_type": "stream",
     "text": [
      "(1460, 74)\n"
     ]
    }
   ],
   "source": [
    "del train['PoolQC']\n",
    "del train['MiscFeature']\n",
    "del train['Alley']\n",
    "del train['Fence']\n",
    "del train['FireplaceQu']\n",
    "del train['Id']\n",
    "del train['Utilities']\n",
    "\n",
    "print(train.shape)"
   ]
  },
  {
   "cell_type": "markdown",
   "metadata": {},
   "source": [
    "### Preprocessing Step 2 - Sorting Feature Types"
   ]
  },
  {
   "cell_type": "markdown",
   "metadata": {},
   "source": [
    "We decided to separate our data into three types: ordered categorical data (scales of 1-10, condition ratings, etc), unordered categorical data, and continuous data. Note that we included some features in the continuous set that could be considered categorical (like the 'YearSo'). Our reasons for separating the data as we did should be obvious when you inspect their distribution with the widget. Below are the features and their respective types: "
   ]
  },
  {
   "cell_type": "code",
   "execution_count": 143,
   "metadata": {
    "collapsed": false
   },
   "outputs": [],
   "source": [
    "# purposefully-ordered \n",
    "ordered_categorical_features = ['OverallCond', 'Fireplaces', 'GarageCars', \n",
    "                                'TotRmsAbvGrd', 'BedroomAbvGr', 'FullBath', \n",
    "                                'BsmtFullBath', 'OverallQual', 'KitchenQual', \n",
    "                                'CentralAir', 'HeatingQC', 'BsmtCond', 'BsmtQual', \n",
    "                                'ExterCond', 'ExterQual', 'BsmtHalfBath', 'GarageCond',\n",
    "                                'GarageQual']\n",
    "\n",
    "# arbitrarily-ordered\n",
    "unordered_categorical_features = ['MSZoning', 'Street', 'LotShape', \n",
    "                                  'LandContour', 'LotConfig', 'LandSlope', \n",
    "                                  'Neighborhood', 'Condition1', 'Condition2', \n",
    "                                  'BldgType', 'HouseStyle', 'RoofStyle', 'RoofMatl', \n",
    "                                  'Exterior1st', 'Exterior2nd', 'MasVnrType', 'Foundation', \n",
    "                                  'BsmtExposure', 'BsmtFinType1', 'BsmtFinType2', 'Heating', \n",
    "                                  'Electrical', 'GarageFinish', 'Functional', 'GarageType', \n",
    "                                  'PavedDrive', 'SaleType', 'SaleCondition', \n",
    "                                  'MSSubClass', 'PoolArea', 'MoSold']\n",
    "\n",
    "# note choice of years as continuous \n",
    "continuous_features = ['LotFrontage', 'LotArea', 'YearBuilt', \n",
    "                       'YearRemodAdd', 'MasVnrArea', 'BsmtFinSF1', \n",
    "                       'BsmtFinSF2', 'BsmtUnfSF', 'TotalBsmtSF', \n",
    "                       '1stFlrSF', '2ndFlrSF', 'LowQualFinSF', \n",
    "                       'GrLivArea', 'HalfBath', 'KitchenAbvGr',\n",
    "                       'GarageYrBlt', 'GarageArea', 'WoodDeckSF', \n",
    "                       'OpenPorchSF', 'EnclosedPorch', '3SsnPorch', \n",
    "                       'ScreenPorch', 'MiscVal', 'YrSold']\n",
    "    "
   ]
  },
  {
   "cell_type": "markdown",
   "metadata": {},
   "source": [
    "### Preprocessing Step 3 - Imputing Values"
   ]
  },
  {
   "cell_type": "markdown",
   "metadata": {},
   "source": [
    "In this step, we must fill in the missing ('NaN') values. For the continuous features, we will want to fill in the missing values with the mean for that column. For example, we know that the mean value for all of the known 'LotFrontage' values is around 70. Therefore, for all of the 'NaN' values encountered in the 'LotFrontage' column, we will replace the value with 70."
   ]
  },
  {
   "cell_type": "code",
   "execution_count": 144,
   "metadata": {
    "collapsed": false
   },
   "outputs": [],
   "source": [
    "means = {feat:np.nanmean(train[feat].values) for feat in continuous_features}\n",
    "for feature,mean in means.items():\n",
    "    train[feature] = train[feature].fillna(value=mean)"
   ]
  },
  {
   "cell_type": "markdown",
   "metadata": {
    "collapsed": true
   },
   "source": [
    "For the categorical features (unordered and ordered), we will fill in the missing values with the mode category for that column. For example, it is known that the most frequent 'GarageQual' is 'TA.' Therefore, for all of the 'NaN' values we encounter in the 'GarageQual' column, we will replace the value with 'TA.'"
   ]
  },
  {
   "cell_type": "code",
   "execution_count": 145,
   "metadata": {
    "collapsed": false
   },
   "outputs": [],
   "source": [
    "# fill in the missing categorical values with the modes \n",
    "categorical_features = unordered_categorical_features + ordered_categorical_features\n",
    "modes = {feat:train[feat].mode()[0] for feat in categorical_features}\n",
    "for feature,mode in modes.items():\n",
    "    train[feature] = train[feature].fillna(value=mode)"
   ]
  },
  {
   "cell_type": "markdown",
   "metadata": {},
   "source": [
    "### Preprocessing Step 3 - Encoding Categorical Values"
   ]
  },
  {
   "cell_type": "markdown",
   "metadata": {},
   "source": [
    "Now we must encode the categorical features. The unordered categorical features need to be transformed using a similar approach to OneHotEncoder (but using pandas.get_dummies). Some ordered categorical features need special treatement (i.e. they are of dtype='object'). However, many of the ordered categorical variables are already encoded. For example, 'OverallCond' (see widget). "
   ]
  },
  {
   "cell_type": "code",
   "execution_count": 146,
   "metadata": {
    "collapsed": false
   },
   "outputs": [],
   "source": [
    "# similar to OneHotEncoder, this section of code will pass through all \n",
    "# unordered categorical features, expanding the training data by \n",
    "# numCols columns, where numCols = len(train[feat].columns)\n",
    "# each coll\n",
    "for feat in unordered_categorical_features:\n",
    "    dummies = pd.get_dummies(train[feat], prefix=feat)\n",
    "    train[dummies.columns] = dummies\n",
    "    train = train.drop(feat, 1)\n",
    "\n",
    "# simple encoding scheme much like http://scikit-learn.org/stable/modules/generated/sklearn.preprocessing.LabelEncoder.html#sklearn.preprocessing.LabelEncoder\n",
    "# however, we enforce order with custom encoder\n",
    "special_encode = ['KitchenQual','HeatingQC','BsmtCond', \n",
    "                 'ExterCond', 'ExterQual', 'CentralAir']\n",
    "\n",
    "CondKey = {\n",
    "        # answer not available (0 weight)\n",
    "        'TA' : 0,\n",
    "        # Poor \n",
    "        'Po' : 1,\n",
    "        # Fair\n",
    "        'Fa' : 1,\n",
    "        # Good\n",
    "        'Gd' : 2,\n",
    "        # Excellent\n",
    "        'Ex' : 3\n",
    "}\n",
    "\n",
    "BinKey = {\n",
    "    # No\n",
    "    'N' : 0,\n",
    "    # Yes\n",
    "    'Y' : 1\n",
    "}\n",
    "\n",
    "def encode(data, key):\n",
    "    return np.array([key[d] for d in data])\n",
    "\n",
    "train['KitchenQual'] = encode(train['KitchenQual'], CondKey)\n",
    "train['HeatingQC'] = encode(train['HeatingQC'], CondKey)\n",
    "train['BsmtCond'] = encode(train['BsmtCond'], CondKey)\n",
    "train['BsmtQual'] = encode(train['BsmtQual'], CondKey)\n",
    "train['ExterCond'] = encode(train['ExterCond'], CondKey)\n",
    "train['ExterQual'] = encode(train['ExterQual'], CondKey)\n",
    "train['GarageCond'] = encode(train['GarageCond'], CondKey)\n",
    "train['GarageQual'] = encode(train['GarageQual'], CondKey)\n",
    "train['CentralAir'] = encode(train['CentralAir'], BinKey)\n",
    "\n"
   ]
  },
  {
   "cell_type": "markdown",
   "metadata": {},
   "source": [
    "## Model Selection"
   ]
  },
  {
   "cell_type": "raw",
   "metadata": {},
   "source": [
    "Now that we have successfully deleted features with too many missing values, filled in all other missing values, and encoded our categorical variables, we are ready to fit our models. We use the following models and print their scoring results using the 'R2' performance metric:"
   ]
  },
  {
   "cell_type": "code",
   "execution_count": 147,
   "metadata": {
    "collapsed": false
   },
   "outputs": [
    {
     "name": "stdout",
     "output_type": "stream",
     "text": [
      "Classifier\t\t\tCross Val Score Average (folds=10)\n",
      "----------\t\t\t-------------------------------------------\n",
      "Lasso\t\t\t\t0.824\n",
      "Linear\t\t\t\t0.824\n",
      "Random Forest\t\t\t0.848\n",
      "Ada Boost\t\t\t0.802\n",
      "Decision Tree\t\t\t0.701\n",
      "Gradient Boosting\t\t0.892\n"
     ]
    }
   ],
   "source": [
    "# and http://pandas.pydata.org/pandas-docs/stable/generated/pandas.DataFrame.drop.html#pandas.DataFrame.drop\n",
    "X = train.drop('SalePrice', 1).values\n",
    "y = train['SalePrice'].values\n",
    "\n",
    "# see http://scikit-learn.org/stable/modules/generated/sklearn.linear_model.Lasso.html#sklearn-linear-model-lasso\n",
    "lasso = linear_model.Lasso(alpha=10.0)\n",
    "lasso_avg = np.mean(model_selection.cross_val_score(lasso, X, y, cv=10, scoring='r2'))\n",
    "\n",
    "# http://scikit-learn.org/stable/modules/generated/sklearn.linear_model.LinearRegression.html#sklearn.linear_model.LinearRegression\n",
    "linReg = linear_model.LinearRegression()\n",
    "linReg_avg = np.mean(model_selection.cross_val_score(lasso, X, y, cv=10, scoring='r2'))\n",
    "\n",
    "# http://scikit-learn.org/stable/modules/generated/sklearn.ensemble.RandomForestRegressor.html\n",
    "forest = ensemble.RandomForestRegressor()\n",
    "forest_avg = np.mean(model_selection.cross_val_score(forest, X, y, cv=10, scoring='r2'))\n",
    "\n",
    "# http://scikit-learn.org/stable/modules/generated/sklearn.ensemble.AdaBoostRegressor.html\n",
    "ada = ensemble.AdaBoostRegressor()\n",
    "ada_avg = np.mean(model_selection.cross_val_score(ada, X, y, cv=10, scoring='r2'))\n",
    "\n",
    "gradient = ensemble.GradientBoostingRegressor()\n",
    "gradient_avg = np.mean(model_selection.cross_val_score(gradient, X, y, cv=10, scoring='r2'))\n",
    "\n",
    "# http://scikit-learn.org/stable/modules/generated/sklearn.tree.DecisionTreeRegressor.html\n",
    "decision = tree.DecisionTreeRegressor()\n",
    "decision_avg = np.mean(model_selection.cross_val_score(decision, X, y, cv=10, scoring='r2'))\n",
    "\n",
    "\n",
    "print('Classifier\\t\\t\\tCross Val Score Average (folds=10)')\n",
    "print('----------\\t\\t\\t-------------------------------------------')\n",
    "print('Lasso\\t\\t\\t\\t%0.3f' % lasso_avg)\n",
    "print('Linear\\t\\t\\t\\t%0.3f' % linReg_avg)\n",
    "print('Random Forest\\t\\t\\t%0.3f' % forest_avg)\n",
    "print('Ada Boost\\t\\t\\t%0.3f' % ada_avg)\n",
    "print('Decision Tree\\t\\t\\t%0.3f' % decision_avg)\n",
    "print('Gradient Boosting\\t\\t%0.3f' % gradient_avg)"
   ]
  }
 ],
 "metadata": {
  "anaconda-cloud": {},
  "kernelspec": {
   "display_name": "Python [Root]",
   "language": "python",
   "name": "Python [Root]"
  },
  "language_info": {
   "codemirror_mode": {
    "name": "ipython",
    "version": 3
   },
   "file_extension": ".py",
   "mimetype": "text/x-python",
   "name": "python",
   "nbconvert_exporter": "python",
   "pygments_lexer": "ipython3",
   "version": "3.5.2"
  }
 },
 "nbformat": 4,
 "nbformat_minor": 0
}
