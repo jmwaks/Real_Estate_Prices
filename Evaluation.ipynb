{
 "cells": [
  {
   "cell_type": "markdown",
   "metadata": {
    "collapsed": false
   },
   "source": [
    "# Housing Prices - Evaluation"
   ]
  },
  {
   "cell_type": "markdown",
   "metadata": {},
   "source": [
    "### James Mwakichako - jmwakich@hawk.iit.edu\n",
    "### Michael Baroody  - mbaroody@hawk.iit.edu"
   ]
  },
  {
   "cell_type": "markdown",
   "metadata": {},
   "source": [
    "### Description "
   ]
  },
  {
   "cell_type": "code",
   "execution_count": 114,
   "metadata": {
    "collapsed": true
   },
   "outputs": [],
   "source": [
    "%matplotlib inline\n",
    "import pandas as pd\n",
    "from ipywidgets import widgets\n",
    "from IPython.display import display\n",
    "import numpy as np\n",
    "import matplotlib.pyplot as plt\n",
    "\n",
    "# train DataFrame object\n",
    "# see http://pandas.pydata.org/pandas-docs/stable/generated/pandas.DataFrame.html\n",
    "# and http://pandas.pydata.org/pandas-docs/stable/generated/pandas.read_csv.html\n",
    "train = pd.read_csv(\"train.csv\", header = 0)"
   ]
  },
  {
   "cell_type": "markdown",
   "metadata": {},
   "source": [
    "Recall that we had some features with many missing values. Below are all the features that have some missing values. All the other features have all values filled in. "
   ]
  },
  {
   "cell_type": "code",
   "execution_count": 115,
   "metadata": {
    "collapsed": false
   },
   "outputs": [
    {
     "name": "stdout",
     "output_type": "stream",
     "text": [
      "Feature \tPercent Values Missing\n",
      "------- \t----------------------\n",
      "PoolQC          0.995205\n",
      "MiscFeature     0.963014\n",
      "Alley           0.937671\n",
      "Fence           0.807534\n",
      "FireplaceQu     0.472603\n",
      "LotFrontage     0.177397\n",
      "GarageCond      0.055479\n",
      "GarageType      0.055479\n",
      "GarageYrBlt     0.055479\n",
      "GarageFinish    0.055479\n",
      "GarageQual      0.055479\n",
      "BsmtExposure    0.026027\n",
      "BsmtFinType2    0.026027\n",
      "BsmtFinType1    0.025342\n",
      "BsmtCond        0.025342\n",
      "BsmtQual        0.025342\n",
      "MasVnrArea      0.005479\n",
      "MasVnrType      0.005479\n",
      "Electrical      0.000685\n",
      "dtype: float64\n"
     ]
    }
   ],
   "source": [
    "train = pd.read_csv(\"train.csv\", header = 0)\n",
    "\n",
    "print(\"Feature \\tPercent Values Missing\")\n",
    "print(\"------- \\t----------------------\")\n",
    "\n",
    "# there are 19 features that contain missing values \n",
    "# see http://pandas.pydata.org/pandas-docs/stable/generated/pandas.DataFrame.count.html#pandas.DataFrame.count\n",
    "print((1 - (train.count() / len(train))).sort_values(ascending=False).nlargest(19))"
   ]
  },
  {
   "cell_type": "markdown",
   "metadata": {
    "collapsed": false
   },
   "source": [
    "We want to throw out all features that have > 25% missing values. That means 'PoolQC', 'MiscFeature', 'Alley', 'Fence', and 'FireplaceQu' will all be excluded from the training data. "
   ]
  },
  {
   "cell_type": "code",
   "execution_count": 116,
   "metadata": {
    "collapsed": true
   },
   "outputs": [],
   "source": [
    "del train['PoolQC']\n",
    "del train['MiscFeature']\n",
    "del train['Alley']\n",
    "del train['Fence']\n",
    "del train['FireplaceQu']"
   ]
  },
  {
   "cell_type": "markdown",
   "metadata": {},
   "source": [
    "We will fill in missing values for the rest of the features. For numerical features, we will to fill in the missing values with the mean for that column. For example, we know that the mean value for all of the known 'LotFrontage' values is around 70. Therefore, for all of the 'NaN' values encountered in the 'LotFrontage' column, we will replace the value with 70."
   ]
  },
  {
   "cell_type": "code",
   "execution_count": 119,
   "metadata": {
    "collapsed": false
   },
   "outputs": [],
   "source": [
    "# fill in the missing numerical features with the means\n",
    "# see http://pandas.pydata.org/pandas-docs/stable/generated/pandas.DataFrame.mean.html#pandas.DataFrame.mean\n",
    "# and http://pandas.pydata.org/pandas-docs/stable/generated/pandas.Series.fillna.html#pandas.Series.fillna\n",
    "means = train.mean(skipna=True)\n",
    "for feature,mean in means.iteritems():\n",
    "    train[feature] = train[feature].fillna(value=mean)"
   ]
  },
  {
   "cell_type": "markdown",
   "metadata": {
    "collapsed": true
   },
   "source": [
    "For the categorical features, we will fill in the missing values with the mode category for that column. For example, it is known that the most frequent 'GarageQual' is 'TA.' Therefore, for all of the 'NaN' values we encounter in the 'GarageQual' column, we will replace the value with 'TA.'"
   ]
  },
  {
   "cell_type": "code",
   "execution_count": 120,
   "metadata": {
    "collapsed": false
   },
   "outputs": [],
   "source": [
    "# fill in the missing categorical values with the modes\n",
    "# see http://pandas.pydata.org/pandas-docs/stable/generated/pandas.DataFrame.mode.html#pandas.DataFrame.mode\n",
    "train = train.fillna(train.mode().iloc[0])"
   ]
  },
  {
   "cell_type": "markdown",
   "metadata": {},
   "source": [
    "Now we must deal with the categorical variables. We do this by encoding the categorical feature labels with numbers, using sklearn.preprocessing."
   ]
  },
  {
   "cell_type": "code",
   "execution_count": null,
   "metadata": {
    "collapsed": true
   },
   "outputs": [],
   "source": []
  }
 ],
 "metadata": {
  "anaconda-cloud": {},
  "kernelspec": {
   "display_name": "Python [Root]",
   "language": "python",
   "name": "Python [Root]"
  },
  "language_info": {
   "codemirror_mode": {
    "name": "ipython",
    "version": 3
   },
   "file_extension": ".py",
   "mimetype": "text/x-python",
   "name": "python",
   "nbconvert_exporter": "python",
   "pygments_lexer": "ipython3",
   "version": "3.5.2"
  },
  "widgets": {
   "state": {
    "5f89bb984bf042438c791a820b420c97": {
     "views": [
      {
       "cell_index": 5
      }
     ]
    }
   },
   "version": "1.2.0"
  }
 },
 "nbformat": 4,
 "nbformat_minor": 0
}
